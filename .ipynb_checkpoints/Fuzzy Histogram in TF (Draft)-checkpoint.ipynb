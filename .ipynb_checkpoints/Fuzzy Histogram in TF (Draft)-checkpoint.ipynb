{
 "cells": [
  {
   "cell_type": "code",
   "execution_count": 1,
   "metadata": {},
   "outputs": [
    {
     "name": "stderr",
     "output_type": "stream",
     "text": [
      "E:\\Anaconda3\\envs\\tensorflow\\lib\\site-packages\\h5py\\__init__.py:36: FutureWarning: Conversion of the second argument of issubdtype from `float` to `np.floating` is deprecated. In future, it will be treated as `np.float64 == np.dtype(float).type`.\n",
      "  from ._conv import register_converters as _register_converters\n"
     ]
    }
   ],
   "source": [
    "import tensorflow as tf\n",
    "import numpy as np\n",
    "import cv2\n",
    "from matplotlib import pyplot as plt"
   ]
  },
  {
   "cell_type": "code",
   "execution_count": 2,
   "metadata": {},
   "outputs": [],
   "source": [
    "# Prerequisites\n",
    "image_height = 240\n",
    "image_width = 320\n",
    "num_bin = 20+1\n",
    "bin_width = 1.0/(num_bin-1)"
   ]
  },
  {
   "cell_type": "code",
   "execution_count": 3,
   "metadata": {},
   "outputs": [
    {
     "data": {
      "text/plain": [
       "[[[0, 0], [0, 1], [0, 2], [0, 3]],\n",
       " [[1, 0], [1, 1], [1, 2], [1, 3]],\n",
       " [[2, 0], [2, 1], [2, 2], [2, 3]]]"
      ]
     },
     "execution_count": 3,
     "metadata": {},
     "output_type": "execute_result"
    }
   ],
   "source": [
    "[[[r,c] for c in range(0,4)] for r in range(0,3)]"
   ]
  },
  {
   "cell_type": "code",
   "execution_count": 4,
   "metadata": {},
   "outputs": [],
   "source": [
    "model_scope = tf.variable_scope('model', reuse=tf.AUTO_REUSE)\n",
    "input_scope = tf.variable_scope('input', reuse=tf.AUTO_REUSE)\n",
    "output_scope = tf.variable_scope('output', reuse=tf.AUTO_REUSE)"
   ]
  },
  {
   "cell_type": "code",
   "execution_count": 5,
   "metadata": {},
   "outputs": [],
   "source": [
    "with model_scope:\n",
    "    # Build the model\n",
    "    fuzzy_histogram = tf.get_variable('fuzzy_histogram',\n",
    "                                      shape=[image_height, image_width, num_bin],\n",
    "                                      initializer=tf.constant_initializer(1),\n",
    "                                      trainable=False)\n",
    "    # Define updating mask\n",
    "    update_mask = tf.get_variable('update_mask',\n",
    "                                  shape=[image_height, image_width],\n",
    "                                  trainable=False)\n",
    "    # Intermitent vars\n",
    "    data_position_in_histogram = tf.get_variable('data_position_in_histogram',\n",
    "                                                 shape=[image_height, image_width],\n",
    "                                                 trainable=False)\n",
    "    pre_index = tf.get_variable('previous_index_in_histogram',\n",
    "                                shape=[image_height, image_width],\n",
    "                                trainable=False)\n",
    "    pre_weight = tf.get_variable('previous_weight_in_histogram',\n",
    "                                 shape=[image_height, image_width],\n",
    "                                 trainable=False)\n",
    "    next_index = tf.get_variable('next_index_in_histogram',\n",
    "                                 shape=[image_height, image_width],\n",
    "                                 trainable=False)\n",
    "    next_weight = tf.get_variable('next_weight_in_histogram',\n",
    "                                  shape=[image_height, image_width],\n",
    "                                  trainable=False)\n",
    "    # Intermitent constants\n",
    "    indexing_constant = tf.constant([[[r,c] for c in range(image_width)] for r in range(image_height)],name='indexing_constant')"
   ]
  },
  {
   "cell_type": "code",
   "execution_count": 6,
   "metadata": {},
   "outputs": [],
   "source": [
    "with input_scope:\n",
    "    # Define the input image\n",
    "    input_image = tf.placeholder(tf.float32, \n",
    "                                 shape=[image_height,image_width], \n",
    "                                 name='image')\n",
    "    # Define the iground truth\n",
    "    label = tf.placeholder(tf.float32, \n",
    "                           shape=[image_height,image_width], \n",
    "                           name='truth')"
   ]
  },
  {
   "cell_type": "code",
   "execution_count": 7,
   "metadata": {},
   "outputs": [],
   "source": [
    "with output_scope:\n",
    "    # Define the raw output \n",
    "    raw_segmentation = tf.get_variable('compatibility',\n",
    "                             shape=[image_height, image_width],\n",
    "                             trainable=False)\n",
    "    # Define the synthesis result \n",
    "    synthesis_result = tf.get_variable('synthesis',\n",
    "                             shape=[image_height, image_width],\n",
    "                             trainable=False)"
   ]
  },
  {
   "cell_type": "code",
   "execution_count": 8,
   "metadata": {},
   "outputs": [
    {
     "name": "stdout",
     "output_type": "stream",
     "text": [
      "model/fuzzy_histogram:0 (240, 320, 21)\n",
      "model/update_mask:0 (240, 320)\n",
      "model/data_position_in_histogram:0 (240, 320)\n",
      "model/previous_index_in_histogram:0 (240, 320)\n",
      "model/previous_weight_in_histogram:0 (240, 320)\n",
      "model/next_index_in_histogram:0 (240, 320)\n",
      "model/next_weight_in_histogram:0 (240, 320)\n",
      "output/compatibility:0 (240, 320)\n",
      "output/synthesis:0 (240, 320)\n"
     ]
    }
   ],
   "source": [
    "for var in tf.get_collection(tf.GraphKeys.GLOBAL_VARIABLES ):\n",
    "    print(var.name,var.shape)"
   ]
  },
  {
   "cell_type": "code",
   "execution_count": 9,
   "metadata": {},
   "outputs": [
    {
     "name": "stdout",
     "output_type": "stream",
     "text": [
      "model/indexing_constant:0 (240, 320, 2)\n"
     ]
    }
   ],
   "source": [
    "print(indexing_constant.name,indexing_constant.shape)"
   ]
  },
  {
   "cell_type": "code",
   "execution_count": 10,
   "metadata": {},
   "outputs": [
    {
     "name": "stdout",
     "output_type": "stream",
     "text": [
      "input/image\n",
      "input/truth\n"
     ]
    }
   ],
   "source": [
    "for op in tf.get_default_graph().get_operations():\n",
    "    if op.type == \"Placeholder\":\n",
    "        print(op.name)"
   ]
  },
  {
   "cell_type": "code",
   "execution_count": null,
   "metadata": {},
   "outputs": [],
   "source": [
    "# Initialization\n",
    "def initialization(graph=tf.get_default_graph()):\n",
    "    sess = tf.Session(graph=graph)\n",
    "    sess.run(tf.global_variables_initializer())\n",
    "    return sess"
   ]
  },
  {
   "cell_type": "code",
   "execution_count": 11,
   "metadata": {},
   "outputs": [],
   "source": [
    "# Define histogram checking\n",
    "def histogram_checking(sess):\n",
    "    '''\n",
    "    Inputs:\n",
    "        data_to_check: [height, width], float (from 0.0 to 1.0)\n",
    "        histogram_to_use: [height, width, num_bins], float\n",
    "    Outputs:\n",
    "        result: [height, width], float\n",
    "    '''\n",
    "    sess.run(data_position_in_histogram.assign(input_image/bin_width))\n",
    "    sess.run(pre_index.assign(tf.floor(data_position_in_histogram)))\n",
    "    sess.run((pre_weight.assign(data_position_in_histogram-pre_index))\n",
    "    sess.run(next_index.assign(pre_index+1))\n",
    "    sess.run(next_weight.assign(next_index-data_position_in_histogram))\n",
    "    sess.run(raw_segmentation.assign(tf.add(tf.multiply(tf.gather_nd(fuzzy_histogram,\n",
    "                                                                     tf.concat([indexing_constant, tf.expand_dims(pre_index, -1)], -1)),\n",
    "                                                        pre_weight),\n",
    "                                            tf.multiply(tf.gather_nd(fuzzy_histogram,\n",
    "                                                                     tf.concat([indexing_constant, tf.expand_dims(next_index, -1)], -1)),\n",
    "                                                        next_weight))))"
   ]
  },
  {
   "cell_type": "code",
   "execution_count": null,
   "metadata": {},
   "outputs": [],
   "source": [
    "def temp_synthesis(sess):\n",
    "    # The following can be replaced by avr_pooling\n",
    "    blurred_mask = cv2.medianBlur(sess.run(raw_segmentation.value()),9)\n",
    "    sess.run(synthesis_result.assign(blurred_mask))"
   ]
  },
  {
   "cell_type": "code",
   "execution_count": null,
   "metadata": {},
   "outputs": [],
   "source": [
    "def update_weight_calculation():\n",
    "    # a*y^5/(x+b) a = 0.0792; b = 0.1585\n",
    "    sess.run(update_mask.assign(0.0792*synthesis_result**5/(raw_segmentation+0.1585)))"
   ]
  },
  {
   "cell_type": "code",
   "execution_count": null,
   "metadata": {},
   "outputs": [],
   "source": [
    "def update_histogram():\n",
    "    sess.run(tf.scatter_update(fuzzy_histogram,\n",
    "                               indices=tf.concat([indexing_constant, tf.expand_dims(pre_index, -1)],\n",
    "                               updates=tf.multiply(pre_weight,update_mask)))\n",
    "    sess.run(tf.scatter_update(fuzzy_histogram,\n",
    "                               indices=tf.concat([indexing_constant, tf.expand_dims(next_index, -1)],\n",
    "                               updates=tf.multiply(next_weight,update_mask)))"
   ]
  },
  {
   "cell_type": "code",
   "execution_count": null,
   "metadata": {},
   "outputs": [],
   "source": []
  },
  {
   "cell_type": "code",
   "execution_count": null,
   "metadata": {},
   "outputs": [],
   "source": []
  },
  {
   "cell_type": "code",
   "execution_count": null,
   "metadata": {},
   "outputs": [],
   "source": []
  },
  {
   "cell_type": "code",
   "execution_count": null,
   "metadata": {},
   "outputs": [],
   "source": []
  },
  {
   "cell_type": "code",
   "execution_count": null,
   "metadata": {},
   "outputs": [],
   "source": []
  },
  {
   "cell_type": "code",
   "execution_count": null,
   "metadata": {},
   "outputs": [],
   "source": []
  },
  {
   "cell_type": "code",
   "execution_count": null,
   "metadata": {},
   "outputs": [],
   "source": []
  },
  {
   "cell_type": "code",
   "execution_count": null,
   "metadata": {},
   "outputs": [],
   "source": []
  },
  {
   "cell_type": "code",
   "execution_count": 71,
   "metadata": {},
   "outputs": [
    {
     "name": "stdout",
     "output_type": "stream",
     "text": [
      "[0. 3. 2.]\n"
     ]
    }
   ],
   "source": [
    "# Slice assignment\n",
    "tf.reset_default_graph()\n",
    "temp_x = tf.Variable([2.0,3.0,4.0], name='temp_x')\n",
    "temp_index = [0,2]\n",
    "with tf.Session() as sess:\n",
    "    sess.run(tf.variables_initializer([temp_x,]))\n",
    "    sess.run(tf.scatter_update(temp_x,indices=temp_index,updates=temp_index))\n",
    "    print(temp_x.eval())"
   ]
  },
  {
   "cell_type": "code",
   "execution_count": 67,
   "metadata": {},
   "outputs": [
    {
     "name": "stdout",
     "output_type": "stream",
     "text": [
      "[2 4]\n"
     ]
    }
   ],
   "source": [
    "temp_np_x = np.array([2,3,4])\n",
    "print(temp_np_x[temp_index])"
   ]
  },
  {
   "cell_type": "code",
   "execution_count": 58,
   "metadata": {},
   "outputs": [
    {
     "data": {
      "text/plain": [
       "18"
      ]
     },
     "execution_count": 58,
     "metadata": {},
     "output_type": "execute_result"
    }
   ],
   "source": [
    "2*3**2*1"
   ]
  },
  {
   "cell_type": "code",
   "execution_count": 56,
   "metadata": {},
   "outputs": [
    {
     "name": "stdout",
     "output_type": "stream",
     "text": [
      "[ 32. 243.]\n",
      "[ 32. 243.]\n"
     ]
    }
   ],
   "source": [
    "tf.reset_default_graph()\n",
    "temp_x = tf.constant([2.0,3.0], name='temp_x')\n",
    "with tf.Session() as sess:\n",
    "    print(sess.run(tf.pow(temp_x, 5)))\n",
    "    print(sess.run(temp_x**5))"
   ]
  },
  {
   "cell_type": "code",
   "execution_count": 36,
   "metadata": {},
   "outputs": [
    {
     "name": "stdout",
     "output_type": "stream",
     "text": [
      "[1. 2. 3.]\n",
      "<class 'numpy.ndarray'>\n",
      "<class 'numpy.ndarray'>\n",
      "[3. 2. 1.]\n"
     ]
    }
   ],
   "source": [
    "temp_a = tf.Variable([1.0,2.0,3.0])\n",
    "\n",
    "# temp_b = temp_a/2\n",
    "with tf.Session() as sess:\n",
    "    sess.run(tf.variables_initializer([temp_a,]))\n",
    "    print(sess.run(temp_a.value()))\n",
    "    print(type(sess.run(temp_a.value())))\n",
    "    print(type(temp_a.eval()))\n",
    "    temp_x = sess.run(temp_a.value())\n",
    "    temp_T = temp_a.eval()\n",
    "    sess.run(temp_a.assign([3,2,1]))\n",
    "    print(temp_a.eval())"
   ]
  },
  {
   "cell_type": "code",
   "execution_count": 47,
   "metadata": {},
   "outputs": [
    {
     "name": "stdout",
     "output_type": "stream",
     "text": [
      "10.0\n",
      "1.0\n",
      "11.0\n",
      "11.0\n",
      "12.0\n",
      "12.0\n"
     ]
    }
   ],
   "source": [
    "tf.reset_default_graph()\n",
    "temp_x = tf.Variable(10.0, name='temp_x')\n",
    "temp_y = tf.Variable(1.0, name='temp_y')\n",
    "temp_z = temp_x+temp_y\n",
    "temp_assign_op = temp_x.assign(temp_z)\n",
    "with tf.Session() as sess:\n",
    "    sess.run(tf.variables_initializer([temp_x,temp_y]))\n",
    "    print(temp_x.eval())\n",
    "    print(temp_y.eval())\n",
    "    print(temp_z.eval())\n",
    "    print(temp_assign_op.eval())\n",
    "    print(temp_assign_op.eval())\n",
    "    print(temp_x.eval())\n",
    "    tf.summary.FileWriter('Logs', sess.graph)"
   ]
  },
  {
   "cell_type": "code",
   "execution_count": 44,
   "metadata": {},
   "outputs": [
    {
     "name": "stdout",
     "output_type": "stream",
     "text": [
      "temp_x:0 ()\n",
      "temp_y:0 ()\n"
     ]
    }
   ],
   "source": [
    "for var in tf.get_collection(tf.GraphKeys.GLOBAL_VARIABLES ):\n",
    "    print(var.name,var.shape)"
   ]
  },
  {
   "cell_type": "code",
   "execution_count": 46,
   "metadata": {},
   "outputs": [
    {
     "name": "stdout",
     "output_type": "stream",
     "text": [
      "temp_x/initial_value\n",
      "temp_x\n",
      "temp_x/Assign\n",
      "temp_x/read\n",
      "temp_y/initial_value\n",
      "temp_y\n",
      "temp_y/Assign\n",
      "temp_y/read\n",
      "add\n",
      "Assign\n",
      "init\n"
     ]
    }
   ],
   "source": [
    "for op in tf.get_default_graph().get_operations():\n",
    "    print(op.name)"
   ]
  },
  {
   "cell_type": "code",
   "execution_count": 50,
   "metadata": {},
   "outputs": [
    {
     "name": "stdout",
     "output_type": "stream",
     "text": [
      "0.0\n",
      "0.0\n",
      "0.0\n",
      "1.0\n",
      "0.0\n",
      "0.0\n",
      "1.0\n",
      "8.0\n"
     ]
    }
   ],
   "source": [
    "tf.reset_default_graph()\n",
    "temp_x = tf.placeholder(tf.float32, name='temp_x')\n",
    "temp_a = tf.Variable(0.0, name='temp_a')\n",
    "temp_b = tf.Variable(0.0, name='temp_b')\n",
    "temp_c = tf.Variable(0.0, name='temp_c')\n",
    "temp_assign_a = temp_a.assign(temp_x+1)\n",
    "temp_assign_b = temp_b.assign(temp_a+1)\n",
    "temp_assign_c = temp_c.assign(temp_b+1)\n",
    "with tf.Session() as sess:\n",
    "    sess.run(tf.variables_initializer([temp_a,temp_b,temp_c]))\n",
    "    print(temp_a.eval())\n",
    "    print(temp_b.eval())\n",
    "    print(temp_c.eval())\n",
    "    print(temp_assign_c.eval())\n",
    "    print(temp_a.eval())\n",
    "    print(temp_b.eval())\n",
    "    print(temp_c.eval())\n",
    "    print(sess.run(temp_assign_a, feed_dict={temp_x: 7}))\n",
    "    tf.summary.FileWriter('Logs', sess.graph)"
   ]
  },
  {
   "cell_type": "code",
   "execution_count": null,
   "metadata": {},
   "outputs": [],
   "source": []
  },
  {
   "cell_type": "code",
   "execution_count": 33,
   "metadata": {},
   "outputs": [
    {
     "data": {
      "text/plain": [
       "array([1., 2., 3.], dtype=float32)"
      ]
     },
     "execution_count": 33,
     "metadata": {},
     "output_type": "execute_result"
    }
   ],
   "source": [
    "temp_x"
   ]
  },
  {
   "cell_type": "code",
   "execution_count": 37,
   "metadata": {},
   "outputs": [
    {
     "data": {
      "text/plain": [
       "array([1., 2., 3.], dtype=float32)"
      ]
     },
     "execution_count": 37,
     "metadata": {},
     "output_type": "execute_result"
    }
   ],
   "source": [
    "temp_T"
   ]
  },
  {
   "cell_type": "code",
   "execution_count": null,
   "metadata": {},
   "outputs": [],
   "source": [
    "def temp_synthesis():\n",
    "    cv2.medianBlur(raw_segmentation.value,5)"
   ]
  }
 ],
 "metadata": {
  "kernelspec": {
   "display_name": "Python 3",
   "language": "python",
   "name": "python3"
  },
  "language_info": {
   "codemirror_mode": {
    "name": "ipython",
    "version": 3
   },
   "file_extension": ".py",
   "mimetype": "text/x-python",
   "name": "python",
   "nbconvert_exporter": "python",
   "pygments_lexer": "ipython3",
   "version": "3.5.5"
  }
 },
 "nbformat": 4,
 "nbformat_minor": 2
}
