{
 "cells": [
  {
   "cell_type": "markdown",
   "metadata": {},
   "source": [
    "# 1. Define the Background Segmentation Model"
   ]
  },
  {
   "cell_type": "code",
   "execution_count": 1,
   "metadata": {},
   "outputs": [
    {
     "name": "stderr",
     "output_type": "stream",
     "text": [
      "E:\\Anaconda3\\envs\\tensorflow\\lib\\site-packages\\h5py\\__init__.py:36: FutureWarning: Conversion of the second argument of issubdtype from `float` to `np.floating` is deprecated. In future, it will be treated as `np.float64 == np.dtype(float).type`.\n",
      "  from ._conv import register_converters as _register_converters\n"
     ]
    }
   ],
   "source": [
    "import tensorflow as tf\n",
    "import numpy as np\n",
    "import cv2\n",
    "from matplotlib import pyplot as plt"
   ]
  },
  {
   "cell_type": "code",
   "execution_count": 2,
   "metadata": {},
   "outputs": [],
   "source": [
    "# Prerequisites\n",
    "image_height = 240\n",
    "image_width = 320\n",
    "num_bin = 20+1\n",
    "bin_width = 1.0/(num_bin-1)\n",
    "num_training_frame = 20"
   ]
  },
  {
   "cell_type": "code",
   "execution_count": 3,
   "metadata": {},
   "outputs": [],
   "source": [
    "class FuzzyHistogramModel():\n",
    "    \"\"\"Class to load deeplab model and run inference.\"\"\"\n",
    "\n",
    "    def __init__(self):\n",
    "        \"\"\"Creates and loads pretrained deeplab model.\"\"\"\n",
    "        self.graph = tf.Graph()\n",
    "        self.sess = tf.Session(graph=self.graph)\n",
    "        with self.graph.as_default():\n",
    "            self.model_scope = tf.variable_scope('model', reuse=tf.AUTO_REUSE)\n",
    "            self.input_scope = tf.variable_scope('input', reuse=tf.AUTO_REUSE)\n",
    "            self.output_scope = tf.variable_scope('output', reuse=tf.AUTO_REUSE)\n",
    "            with self.model_scope:\n",
    "                # Build the model\n",
    "                self.fuzzy_histogram = tf.get_variable('fuzzy_histogram',\n",
    "                                                  shape=[image_height, image_width, num_bin],\n",
    "                                                  initializer=tf.constant_initializer(1.0),\n",
    "                                                  trainable=False)\n",
    "                # Define updating mask\n",
    "                self.update_mask = tf.get_variable('update_mask',\n",
    "                                              shape=[image_height, image_width],\n",
    "                                              initializer=tf.constant_initializer(1.0),\n",
    "                                              trainable=False)\n",
    "                # Intermitent vars\n",
    "                self.data_position_in_histogram = tf.get_variable('data_position_in_histogram',\n",
    "                                                             shape=[image_height, image_width],\n",
    "                                                             trainable=False)\n",
    "                self.pre_index = tf.get_variable('previous_index_in_histogram',\n",
    "                                            shape=[image_height, image_width],\n",
    "                                            dtype=tf.int32,\n",
    "                                            trainable=False)\n",
    "                self.pre_weight = tf.get_variable('previous_weight_in_histogram',\n",
    "                                             shape=[image_height, image_width],\n",
    "                                             trainable=False)\n",
    "                self.next_index = tf.get_variable('next_index_in_histogram',\n",
    "                                             shape=[image_height, image_width],\n",
    "                                             dtype=tf.int32,\n",
    "                                             trainable=False)\n",
    "                self.next_weight = tf.get_variable('next_weight_in_histogram',\n",
    "                                              shape=[image_height, image_width],\n",
    "                                              trainable=False)\n",
    "                self.max_bin_value = tf.get_variable('max_bin_value',\n",
    "                                                shape=[image_height, image_width],\n",
    "                                                trainable=False)\n",
    "                # Intermitent constants\n",
    "                self.indexing_constant = tf.constant([[[r,c] for c in range(image_width)] for r in range(image_height)],\n",
    "                                                name='indexing_constant')\n",
    "            with self.input_scope:\n",
    "                # Define the input image\n",
    "                self.input_image = tf.placeholder(tf.float32, \n",
    "                                             shape=[image_height,image_width], \n",
    "                                             name='image')\n",
    "                # Define the synthesis result\n",
    "                self.synthesis_result = tf.placeholder(tf.float32, \n",
    "                                                  shape=[image_height,image_width], \n",
    "                                                  name='synthesis_result')\n",
    "            with self.output_scope:\n",
    "                # Define the raw output \n",
    "                self.raw_segmentation = tf.get_variable('compatibility',\n",
    "                                         shape=[image_height, image_width],\n",
    "                                         trainable=False)\n",
    "        \n",
    "    # Initialization\n",
    "    def initialize_sess(self):\n",
    "        with self.graph.as_default():\n",
    "            self.sess.run(tf.global_variables_initializer())\n",
    "\n",
    "    # Define histogram checking\n",
    "    def histogram_checking(self, gray_float_image):\n",
    "        '''\n",
    "        Inputs:\n",
    "            data_to_check: [height, width], float (from 0.0 to 1.0)\n",
    "            histogram_to_use: [height, width, num_bins], float\n",
    "        Outputs:\n",
    "            result: [height, width], float\n",
    "        '''\n",
    "        with self.graph.as_default():\n",
    "            self.sess.run(self.data_position_in_histogram.assign(self.input_image/bin_width),\n",
    "                          feed_dict={self.input_image: gray_float_image})\n",
    "            self.sess.run(self.pre_index.assign(tf.to_int32(tf.floor(self.data_position_in_histogram))))\n",
    "            self.sess.run(self.pre_weight.assign(self.data_position_in_histogram-tf.to_float(self.pre_index)))\n",
    "            self.sess.run(self.next_index.assign(self.pre_index+1))\n",
    "            self.sess.run(self.next_weight.assign(tf.to_float(self.next_index)-self.data_position_in_histogram))\n",
    "            self.sess.run(self.raw_segmentation.assign(tf.add(tf.multiply(tf.gather_nd(self.fuzzy_histogram,\n",
    "                                                                                       tf.concat([self.indexing_constant,tf.expand_dims(self.pre_index, -1)], -1)),\n",
    "                                                                          self.pre_weight),\n",
    "                                                              tf.multiply(tf.gather_nd(self.fuzzy_histogram,\n",
    "                                                                                       tf.concat([self.indexing_constant,tf.expand_dims(self.next_index, -1)], -1)),\n",
    "                                                                          self.next_weight))))\n",
    "    def get_raw_segmentation(self):\n",
    "        with self.graph.as_default():\n",
    "            raw_segmentation_in_np_in_float = self.sess.run(self.raw_segmentation.value())\n",
    "        return raw_segmentation_in_np_in_float\n",
    "        \n",
    "    \n",
    "    def fake_synthesis_generate(self):\n",
    "        # The following can be replaced by avr_pooling\n",
    "        with self.graph.as_default():\n",
    "            raw_segmentation_in_np_in_float_scaled_to_255 = 255.0*self.sess.run(self.raw_segmentation.value())\n",
    "        raw_segmentation_in_np_in_uint8 = raw_segmentation_in_np_in_float_scaled_to_255.astype('uint8')\n",
    "        blurred_mask_uint8 = cv2.medianBlur(raw_segmentation_in_np_in_uint8,9)\n",
    "        blurred_mask_float = blurred_mask_uint8.astype('float')/256\n",
    "        return blurred_mask_float\n",
    "        \n",
    "    def update_weight_calculation(self, synthesis_map):\n",
    "        # a*y^5/(x+b) a = 0.0792; b = 0.1585\n",
    "        with self.graph.as_default():\n",
    "            self.sess.run(self.update_mask.assign(0.0792*self.synthesis_result**5/(self.raw_segmentation+0.1585)),\n",
    "                         feed_dict={self.synthesis_result: synthesis_map})\n",
    "    \n",
    "    def update_histogram(self):\n",
    "        with self.graph.as_default():\n",
    "            self.sess.run(self.fuzzy_histogram.assign_add(tf.sparse_tensor_to_dense(tf.SparseTensor(indices=tf.reshape(tf.to_int64(tf.concat([self.indexing_constant, tf.expand_dims(self.pre_index, -1)], -1)),\n",
    "                                                                                                                       [image_height*image_width,3]), \n",
    "                                                                                                    values=tf.reshape(tf.multiply(self.pre_weight,self.update_mask),\n",
    "                                                                                                                      [image_height*image_width,]), \n",
    "                                                                                                    dense_shape=[image_height,image_width,num_bin]))))\n",
    "            self.sess.run(self.fuzzy_histogram.assign_add(tf.sparse_tensor_to_dense(tf.SparseTensor(indices=tf.reshape(tf.to_int64(tf.concat([self.indexing_constant, tf.expand_dims(self.next_index, -1)], -1)),\n",
    "                                                                                                                       [image_height*image_width,3]), \n",
    "                                                                                                    values=tf.reshape(tf.multiply(self.next_weight,self.update_mask),\n",
    "                                                                                                                      [image_height*image_width,]), \n",
    "                                                                                                    dense_shape=[image_height,image_width,num_bin]))))\n",
    "            self.sess.run(self.max_bin_value.assign(tf.reduce_max(self.fuzzy_histogram,axis=-1)))\n",
    "            self.sess.run(self.fuzzy_histogram.assign(tf.divide(self.fuzzy_histogram,\n",
    "                                                                tf.tile(tf.expand_dims(self.max_bin_value, -1),\n",
    "                                                                        [1, 1, num_bin]))))\n",
    "    \n",
    "    def write_graph(self,log_path):\n",
    "        with self.graph.as_default():\n",
    "            tf.summary.FileWriter(log_path, self.sess.graph)\n",
    "    \n",
    "    def __del__(self):\n",
    "        self.sess.close()"
   ]
  },
  {
   "cell_type": "markdown",
   "metadata": {},
   "source": [
    "## 1.1. Test the fuzzy histogram based background model"
   ]
  },
  {
   "cell_type": "code",
   "execution_count": 4,
   "metadata": {},
   "outputs": [],
   "source": [
    "image_folder = 'F:\\\\dataset2014\\\\dataset\\\\baseline\\\\highway\\\\input\\\\'"
   ]
  },
  {
   "cell_type": "code",
   "execution_count": 5,
   "metadata": {},
   "outputs": [],
   "source": [
    "FH_MODEL = FuzzyHistogramModel()"
   ]
  },
  {
   "cell_type": "code",
   "execution_count": 6,
   "metadata": {},
   "outputs": [
    {
     "name": "stdout",
     "output_type": "stream",
     "text": [
      "model/fuzzy_histogram:0 (240, 320, 21)\n",
      "model/update_mask:0 (240, 320)\n",
      "model/data_position_in_histogram:0 (240, 320)\n",
      "model/previous_index_in_histogram:0 (240, 320)\n",
      "model/previous_weight_in_histogram:0 (240, 320)\n",
      "model/next_index_in_histogram:0 (240, 320)\n",
      "model/next_weight_in_histogram:0 (240, 320)\n",
      "model/max_bin_value:0 (240, 320)\n",
      "output/compatibility:0 (240, 320)\n",
      "Tensor(\"model/indexing_constant:0\", shape=(240, 320, 2), dtype=int32)\n",
      "<bound method Operation.get_attr of <tf.Operation 'input/image' type=Placeholder>>\n",
      "<bound method Operation.get_attr of <tf.Operation 'input/synthesis_result' type=Placeholder>>\n"
     ]
    }
   ],
   "source": [
    "with FH_MODEL.graph.as_default():\n",
    "    for var in tf.get_collection(tf.GraphKeys.GLOBAL_VARIABLES ):\n",
    "        print(var.name,var.shape)\n",
    "    print(FH_MODEL.indexing_constant)\n",
    "    for op in tf.get_default_graph().get_operations():\n",
    "        if op.type == \"Placeholder\":\n",
    "            print(op.get_attr)"
   ]
  },
  {
   "cell_type": "code",
   "execution_count": 7,
   "metadata": {},
   "outputs": [],
   "source": [
    "FH_MODEL.initialize_sess()"
   ]
  },
  {
   "cell_type": "markdown",
   "metadata": {},
   "source": [
    "Training the model with 20 frames:"
   ]
  },
  {
   "cell_type": "code",
   "execution_count": 8,
   "metadata": {},
   "outputs": [],
   "source": [
    "for i_train in range(1,num_training_frame):\n",
    "    cv_BGR_image = cv2.imread(image_folder + 'in{0:06d}'.format(i_train) + '.jpg')\n",
    "    cv_gray_image = cv2.cvtColor(cv_BGR_image, cv2.COLOR_BGR2GRAY)\n",
    "    cv_float_gray_image = cv_gray_image.astype('float')/256.0 # Avoid reaching the 22th bin of a histogram (not using ./255)\n",
    "    cv2.imshow('cv_float_gray_image',cv_float_gray_image)\n",
    "    cv2.waitKey(1)\n",
    "    FH_MODEL.histogram_checking(cv_float_gray_image)\n",
    "    raw_segmentation = FH_MODEL.get_raw_segmentation()\n",
    "    cv2.imshow('raw_segmentation',raw_segmentation)\n",
    "    cv2.waitKey(1)\n",
    "    fake_synthesis = FH_MODEL.fake_synthesis_generate()\n",
    "    cv2.imshow('synthesis_image',fake_synthesis)\n",
    "    cv2.waitKey(50)\n",
    "    # FH_MODEL.update_weight_calculation(fake_synthesis)\n",
    "    FH_MODEL.update_histogram()"
   ]
  },
  {
   "cell_type": "markdown",
   "metadata": {},
   "source": [
    "Test the model on consecutive 80 frames:"
   ]
  },
  {
   "cell_type": "code",
   "execution_count": 9,
   "metadata": {},
   "outputs": [],
   "source": [
    "for i_train in range(num_training_frame,100):\n",
    "    cv_BGR_image = cv2.imread(image_folder + 'in{0:06d}'.format(i_train) + '.jpg')\n",
    "    cv_gray_image = cv2.cvtColor(cv_BGR_image, cv2.COLOR_BGR2GRAY)\n",
    "    cv_float_gray_image = cv_gray_image.astype('float')/256.0 # Avoid reaching the 22th bin of a histogram (not using ./255)\n",
    "    cv2.imshow('cv_float_gray_image',cv_float_gray_image)\n",
    "    cv2.waitKey(1)\n",
    "    FH_MODEL.histogram_checking(cv_float_gray_image)\n",
    "    raw_segmentation = FH_MODEL.get_raw_segmentation()\n",
    "    cv2.imshow('raw_segmentation',raw_segmentation)\n",
    "    cv2.waitKey(1)\n",
    "    fake_synthesis = FH_MODEL.fake_synthesis_generate()\n",
    "    cv2.imshow('synthesis_image',fake_synthesis)\n",
    "    cv2.waitKey(200)\n",
    "    FH_MODEL.update_weight_calculation(fake_synthesis)\n",
    "    FH_MODEL.update_histogram()"
   ]
  },
  {
   "cell_type": "code",
   "execution_count": 11,
   "metadata": {},
   "outputs": [],
   "source": [
    "FH_MODEL.write_graph('Logs')"
   ]
  },
  {
   "cell_type": "code",
   "execution_count": 12,
   "metadata": {},
   "outputs": [],
   "source": [
    "cv2.destroyAllWindows()"
   ]
  },
  {
   "cell_type": "code",
   "execution_count": null,
   "metadata": {},
   "outputs": [],
   "source": []
  },
  {
   "cell_type": "code",
   "execution_count": null,
   "metadata": {},
   "outputs": [],
   "source": []
  }
 ],
 "metadata": {
  "kernelspec": {
   "display_name": "Python 3",
   "language": "python",
   "name": "python3"
  },
  "language_info": {
   "codemirror_mode": {
    "name": "ipython",
    "version": 3
   },
   "file_extension": ".py",
   "mimetype": "text/x-python",
   "name": "python",
   "nbconvert_exporter": "python",
   "pygments_lexer": "ipython3",
   "version": "3.5.5"
  }
 },
 "nbformat": 4,
 "nbformat_minor": 2
}
